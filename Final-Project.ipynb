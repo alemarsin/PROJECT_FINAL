{
 "cells": [
  {
   "cell_type": "markdown",
   "metadata": {},
   "source": [
    "<center> \n",
    "     <img src=\"https://cf-courses-data.s3.us.cloud-object-storage.appdomain.cloud/assets/logos/SN_web_lightmode.png\" width=\"300\"> \n",
    "</center>\n",
    "\n",
    "# Assignment: Notebook for Peer Assignment\n",
    "Estimated time needed: 45 minutes\n"
   ]
  },
  {
   "cell_type": "markdown",
   "metadata": {},
   "source": [
    "# Assignment Scenario\n",
    "\n",
    "Congratulations! You have just been hired by a US Venture Capital firm as a data analyst.\n",
    "\n",
    "The company is considering foreign grain markets to help meet its supply chain requirements for its recent investments in the microbrewery and microdistillery industry, which is involved with the production and distribution of craft beers and spirits.\n",
    "\n",
    "Your first task is to provide a high level analysis of crop production in Canada. Your stakeholders want to understand the current and historical performance of certain crop types in terms of supply and price volatility. For now they are mainly interested in a macro-view of Canada's crop farming industry, and how it relates to the relative value of the Canadian and US dollars.\n"
   ]
  },
  {
   "cell_type": "markdown",
   "metadata": {},
   "source": [
    "# Introduction\n",
    "\n",
    "Using this R notebook you will:\n",
    "\n",
    "1.  Understand four datasets \n",
    "2.  Load the datasets into four separate tables in a Db2 database\n",
    "3.  Execute SQL queries unsing the RODBC R package to answer assignment questions \n",
    "\n",
    "You have already encountered two of these datasets in the previous practice lab. You will be able to reuse much of the work you did there to prepare your database tables for executing SQL queries.\n"
   ]
  },
  {
   "cell_type": "markdown",
   "metadata": {},
   "source": [
    "# Understand the datasets\n",
    "\n",
    "To complete the assignment problems in this notebook you will be using subsetted snapshots of two datasets from Statistics Canada, and one from the Bank of Canada. The links to the prepared datasets are provided in the next section; the interested student can explore the landing pages for the source datasets as follows:\n",
    "\n",
    "1.  <a href=\"https://www150.statcan.gc.ca/t1/tbl1/en/tv.action?utm_medium=Exinfluencer&utm_source=Exinfluencer&utm_content=000026UJ&utm_term=10006555&utm_id=NA-SkillsNetwork-Channel-SkillsNetworkCoursesIBMRP0203ENSkillsNetwork890-2022-01-01&pid=3210035901\">Canadian Principal Crops (Data & Metadata)</a>\n",
    "2.  <a href=\"https://www150.statcan.gc.ca/t1/tbl1/en/tv.action?utm_medium=Exinfluencer&utm_source=Exinfluencer&utm_content=000026UJ&utm_term=10006555&utm_id=NA-SkillsNetwork-Channel-SkillsNetworkCoursesIBMRP0203ENSkillsNetwork890-2022-01-01&pid=3210007701\">Farm product prices (Data & Metadata)</a>\n",
    "3.  <a href=\"https://www.bankofcanada.ca/rates/exchange/daily-exchange-rates?utm_medium=Exinfluencer&utm_source=Exinfluencer&utm_content=000026UJ&utm_term=10006555&utm_id=NA-SkillsNetwork-Channel-SkillsNetworkCoursesIBMRP0203ENSkillsNetwork890-2022-01-01\">Bank of Canada daily average exchange rates</a>\n",
    "\n",
    "\n",
    "### 1. Canadian Principal Crops Data *\n",
    "\n",
    "This dataset contains agricultural production measures for the principle crops grown in Canada, including a breakdown by province and teritory, for each year from 1908 to 2020.\n",
    "\n",
    "For this assignment you will use a preprocessed snapshot of this dataset (see below).\n",
    "\n",
    "A detailed description of this dataset can be obtained from the StatsCan Data Portal at:\n",
    "https://www150.statcan.gc.ca/t1/tbl1/en/tv.action?pid=3210035901  \n",
    "Detailed information is included in the metadata file and as header text in the data file, which can be downloaded - look for the 'download options' link.  \n",
    "\n",
    "### 2. Farm product prices\n",
    "\n",
    "This dataset contains monthly average farm product prices for Canadian crops and livestock by province and teritory, from 1980 to 2020 (or 'last year', whichever is greatest).\n",
    "\n",
    "For this assignment you will use a preprocessed snapshot of this dataset (see below).\n",
    "\n",
    "A description of this dataset can be obtained from the StatsCan Data Portal at:\n",
    "https://www150.statcan.gc.ca/t1/tbl1/en/tv.action?pid=3210007701 \n",
    "The information is included in the metadata file, which can be downloaded - look for the 'download options' link.  \n",
    "\n",
    "### 3. Bank of Canada daily average exchange rates *\n",
    "\n",
    "This dataset contains the daily average exchange rates for multiple foreign currencies. Exchange rates are expressed as 1 unit of the foreign currency converted into Canadian dollars. It includes only the latest four years of data, and the rates are published once each business day by 16:30 ET.\n",
    "\n",
    "For this assignment you will use a snapshot of this dataset with only the USD-CAD exchange rates included (see next section). We have also prepared a monthly averaged version which you will be using below.\n",
    "\n",
    "A brief description of this dataset and the original dataset can be obtained from the Bank of Canada Data Portal at:\n",
    "https://www.bankofcanada.ca/rates/exchange/daily-exchange-rates/\n",
    "\n",
    "( * these datasets are the same as the ones you used in the practice lab)\n"
   ]
  },
  {
   "cell_type": "markdown",
   "metadata": {},
   "source": [
    "### Dataset URLs\n",
    "\n",
    "  1.  Annual Crop Data: https://cf-courses-data.s3.us.cloud-object-storage.appdomain.cloud/IBM-RP0203EN-SkillsNetwork/labs/Final%20Project/Annual_Crop_Data.csv \n",
    "\n",
    "  2.  Farm product prices: https://cf-courses-data.s3.us.cloud-object-storage.appdomain.cloud/IBM-RP0203EN-SkillsNetwork/labs/Final%20Project/Monthly_Farm_Prices.csv\n",
    "  \n",
    "  3.  Daily FX Data: https://cf-courses-data.s3.us.cloud-object-storage.appdomain.cloud/IBM-RP0203EN-SkillsNetwork/labs/Final%20Project/Daily_FX.csv\n",
    "  \n",
    "  4.  Monthly FX Data: https://cf-courses-data.s3.us.cloud-object-storage.appdomain.cloud/IBM-RP0203EN-SkillsNetwork/labs/Final%20Project/Monthly_FX.csv\n",
    "  \n",
    "\n",
    "<span style=\"color:red\">**IMPORTANT:**</span> You will be loading these datasets directly into R data frames from these URLs instead of from the StatsCan and Bank of Canada portals. The versions provided at these URLs are simplified and subsetted versions of the original datasets.\n"
   ]
  },
  {
   "cell_type": "markdown",
   "metadata": {},
   "source": [
    "#### Now let's load these datasets into four separate Db2 tables.\n",
    "Let's first load the RODBC package:\n"
   ]
  },
  {
   "cell_type": "code",
   "execution_count": 5,
   "metadata": {
    "tags": []
   },
   "outputs": [],
   "source": [
    "library(RODBC)"
   ]
  },
  {
   "cell_type": "markdown",
   "metadata": {
    "tags": []
   },
   "source": [
    "## Problem 1\n",
    "#### Create tables\n",
    "Establish a connection to the Db2 database, and create the following four tables using the RODBC package in R. \n",
    "Use the separate cells provided below to create each of your tables.\n",
    "\n",
    "1.  **CROP_DATA**\n",
    "2.  **FARM_PRICES**\n",
    "3.  **DAILY_FX**\n",
    "4.  **MONTHLY_FX**  \n",
    "\n",
    "The previous practice lab will help you accomplish this.\n"
   ]
  },
  {
   "cell_type": "markdown",
   "metadata": {},
   "source": [
    "### Solution 1\n"
   ]
  },
  {
   "cell_type": "code",
   "execution_count": 7,
   "metadata": {
    "tags": []
   },
   "outputs": [
    {
     "data": {
      "text/html": [
       "<strong>DBMS_Name:</strong> 'DB2/LINUXX8664'"
      ],
      "text/latex": [
       "\\textbf{DBMS\\textbackslash{}\\_Name:} 'DB2/LINUXX8664'"
      ],
      "text/markdown": [
       "**DBMS_Name:** 'DB2/LINUXX8664'"
      ],
      "text/plain": [
       "       DBMS_Name \n",
       "\"DB2/LINUXX8664\" "
      ]
     },
     "metadata": {},
     "output_type": "display_data"
    },
    {
     "data": {
      "text/html": [
       "<strong>DBMS_Ver:</strong> '11.05.0800'"
      ],
      "text/latex": [
       "\\textbf{DBMS\\textbackslash{}\\_Ver:} '11.05.0800'"
      ],
      "text/markdown": [
       "**DBMS_Ver:** '11.05.0800'"
      ],
      "text/plain": [
       "    DBMS_Ver \n",
       "\"11.05.0800\" "
      ]
     },
     "metadata": {},
     "output_type": "display_data"
    },
    {
     "data": {
      "text/html": [
       "<strong>Driver_ODBC_Ver:</strong> '03.51'"
      ],
      "text/latex": [
       "\\textbf{Driver\\textbackslash{}\\_ODBC\\textbackslash{}\\_Ver:} '03.51'"
      ],
      "text/markdown": [
       "**Driver_ODBC_Ver:** '03.51'"
      ],
      "text/plain": [
       "Driver_ODBC_Ver \n",
       "        \"03.51\" "
      ]
     },
     "metadata": {},
     "output_type": "display_data"
    },
    {
     "name": "stdout",
     "output_type": "stream",
     "text": [
      "Table:  CROP_DATA  does not exist\n",
      "Table:  FARM_PRICES  does not exist\n",
      "Table:  DAILY_FX  does not exist\n",
      "Table:  MONTHLY_FX  does not exist\n"
     ]
    }
   ],
   "source": [
    "# Establish database connection\n",
    "dsn_driver <- \"{IBM DB2 ODBC Driver}\"\n",
    "dsn_database <- \"bludb\"            \n",
    "dsn_hostname <- \"54a2f15b-5c0f-46df-8954-7e38e612c2bd.c1ogj3sd0tgtu0lqde00.databases.appdomain.cloud\" \n",
    "dsn_port <- \"32733\"    \n",
    "dsn_protocol <- \"TCPIP\"            \n",
    "dsn_uid <- \"hfg30691\"        \n",
    "dsn_pwd <- \"99w1ORi8rwqGsNAw\"        \n",
    "dsn_security <- \"ssl\"\n",
    "\n",
    "conn_path <- paste(\"DRIVER=\",dsn_driver,\n",
    "                  \";DATABASE=\",dsn_database,\n",
    "                  \";HOSTNAME=\",dsn_hostname,\n",
    "                  \";PORT=\",dsn_port,\n",
    "                  \";PROTOCOL=\",dsn_protocol,\n",
    "                  \";UID=\",dsn_uid,\n",
    "                  \";PWD=\",dsn_pwd,\n",
    "                  \";SECURITY=\",dsn_security,        \n",
    "                    sep=\"\")\n",
    "conn <- odbcDriverConnect(conn_path)\n",
    "\n",
    "   \n",
    "sql.info <- sqlTypeInfo(conn)\n",
    "conn.info <- odbcGetInfo(conn)\n",
    "conn.info[\"DBMS_Name\"]\n",
    "conn.info[\"DBMS_Ver\"]\n",
    "conn.info[\"Driver_ODBC_Ver\"]\n",
    "\n",
    "tables <- c(\"CROP_DATA\", \"FARM_PRICES\", \"DAILY_FX\", \"MONTHLY_FX\") \n",
    "\n",
    "    for (table in tables) {\n",
    "        # Drop tables if they already exist\n",
    "        out <- sqlTables(conn, tableType = \"TABLE\",\n",
    "                          tableName = table)\n",
    "        if (nrow(out)>0) {\n",
    "            err <- sqlDrop(conn, table,\n",
    "                            errors=FALSE)  \n",
    "            if (err==-1) {\n",
    "                cat(\"An error has occurred.\\n\")\n",
    "                err.msg <- odbcGetErrMsg(conn)\n",
    "                for (error in err.msg) { \n",
    "                    cat(error,\"\\n\")\n",
    "                }\n",
    "            } \n",
    "            else {\n",
    "                cat (\"Table: \",table,\" was dropped\\n\")\n",
    "            }\n",
    "        }\n",
    "        else {\n",
    "              cat (\"Table: \", table,\" does not exist\\n\")\n",
    "        }\n",
    "    }"
   ]
  },
  {
   "cell_type": "code",
   "execution_count": 8,
   "metadata": {
    "tags": []
   },
   "outputs": [
    {
     "name": "stdout",
     "output_type": "stream",
     "text": [
      "Table was created successfully.\n"
     ]
    }
   ],
   "source": [
    "# CROP_DATA:\n",
    "df1 <- sqlQuery(conn, \n",
    "                    \"CREATE TABLE CROP_DATA (\n",
    "                                      CD_ID INTEGER NOT NULL,\n",
    "                                      YEAR DATE NOT NULL,\n",
    "                                      CROP_TYPE VARCHAR(20) NOT NULL,\n",
    "                                      GEO VARCHAR(20) NOT NULL, \n",
    "                                      SEEDED_AREA INTEGER NOT NULL,\n",
    "                                      HARVESTED_AREA INTEGER NOT NULL,\n",
    "                                      PRODUCTION INTEGER NOT NULL,\n",
    "                                      AVG_YIELD INTEGER NOT NULL,\n",
    "                                      PRIMARY KEY (CD_ID)\n",
    "                                      )\", \n",
    "                    errors=FALSE\n",
    "                    )\n",
    "\n",
    "    if (df1 == -1){\n",
    "        cat (\"An error has occurred.\\n\")\n",
    "        msg <- odbcGetErrMsg(conn)\n",
    "        print (msg)\n",
    "    } else {\n",
    "        cat (\"Table was created successfully.\\n\")\n",
    "    }"
   ]
  },
  {
   "cell_type": "code",
   "execution_count": 9,
   "metadata": {
    "tags": []
   },
   "outputs": [
    {
     "name": "stdout",
     "output_type": "stream",
     "text": [
      "Table was created successfully.\n"
     ]
    }
   ],
   "source": [
    "# FARM_PRICES:\n",
    "df2 <- sqlQuery(conn, \n",
    "                    \"CREATE TABLE FARM_PRICES (\n",
    "                                      CD_ID INTEGER NOT NULL,\n",
    "                                      DATE DATE NOT NULL,\n",
    "                                      CROP_TYPE VARCHAR(255) NOT NULL,\n",
    "                                      GEO VARCHAR(255) NOT NULL, \n",
    "                                      PRICE_PRERMT INTEGER NOT NULL,\n",
    "                                      PRIMARY KEY (CD_ID)\n",
    "                                      )\", \n",
    "                    errors=FALSE\n",
    "                    )\n",
    "\n",
    "    if (df2 == -1){\n",
    "        cat (\"An error has occurred.\\n\")\n",
    "        msg <- odbcGetErrMsg(conn)\n",
    "        print (msg)\n",
    "    } else {\n",
    "        cat (\"Table was created successfully.\\n\")\n",
    "    }"
   ]
  },
  {
   "cell_type": "code",
   "execution_count": 10,
   "metadata": {
    "tags": []
   },
   "outputs": [
    {
     "name": "stdout",
     "output_type": "stream",
     "text": [
      "Table was created successfully.\n"
     ]
    }
   ],
   "source": [
    "# DAILY_FX:\n",
    "df3 <- sqlQuery(conn, \"CREATE TABLE DAILY_FX (\n",
    "                                DFX_ID INTEGER NOT NULL,\n",
    "                                DATE DATE NOT NULL, \n",
    "                                FXUSDCAD FLOAT(6),\n",
    "                                PRIMARY KEY (DFX_ID)\n",
    "                                )\",\n",
    "                    errors=FALSE\n",
    "                    )\n",
    "\n",
    "    if (df3 == -1){\n",
    "        cat (\"An error has occurred.\\n\")\n",
    "        msg <- odbcGetErrMsg(conn)\n",
    "        print (msg)\n",
    "    } else {\n",
    "        cat (\"Table was created successfully.\\n\")\n",
    "    }"
   ]
  },
  {
   "cell_type": "code",
   "execution_count": 11,
   "metadata": {
    "tags": []
   },
   "outputs": [
    {
     "name": "stdout",
     "output_type": "stream",
     "text": [
      "Table was created successfully.\n"
     ]
    }
   ],
   "source": [
    "# MONTHLY_FX:\n",
    "df4 <- sqlQuery(conn, \"CREATE TABLE MONTHLY_FX (\n",
    "                                MFX_ID INTEGER NOT NULL,\n",
    "                                DATE DATE NOT NULL, \n",
    "                                FXUSDCAD FLOAT(6),\n",
    "                                PRIMARY KEY (MFX_ID)\n",
    "                                )\",\n",
    "                    errors=FALSE\n",
    "                    )\n",
    "\n",
    "    if (df4 == -1){\n",
    "        cat (\"An error has occurred.\\n\")\n",
    "        msg <- odbcGetErrMsg(conn)\n",
    "        print (msg)\n",
    "    } else {\n",
    "        cat (\"Table was created successfully.\\n\")\n",
    "    }"
   ]
  },
  {
   "cell_type": "markdown",
   "metadata": {},
   "source": [
    "## Problem 2\n",
    "#### Read Datasets and Load Tables\n",
    "Read the datasets into R dataframes using the urls provided above. Then load your tables.\n"
   ]
  },
  {
   "cell_type": "markdown",
   "metadata": {},
   "source": [
    "###  Solution 2\n"
   ]
  },
  {
   "cell_type": "code",
   "execution_count": 12,
   "metadata": {
    "tags": []
   },
   "outputs": [
    {
     "name": "stderr",
     "output_type": "stream",
     "text": [
      "Warning message in read.table(file = file, header = header, sep = sep, quote = quote, :\n",
      "“not all columns named in 'colClasses' exist”Warning message in read.table(file = file, header = header, sep = sep, quote = quote, :\n",
      "“not all columns named in 'colClasses' exist”Warning message in read.table(file = file, header = header, sep = sep, quote = quote, :\n",
      "“not all columns named in 'colClasses' exist”Warning message in read.table(file = file, header = header, sep = sep, quote = quote, :\n",
      "“not all columns named in 'colClasses' exist”"
     ]
    },
    {
     "data": {
      "text/html": [
       "<table>\n",
       "<caption>A data.frame: 6 × 8</caption>\n",
       "<thead>\n",
       "\t<tr><th></th><th scope=col>CD_ID</th><th scope=col>YEAR</th><th scope=col>CROP_TYPE</th><th scope=col>GEO</th><th scope=col>SEEDED_AREA</th><th scope=col>HARVESTED_AREA</th><th scope=col>PRODUCTION</th><th scope=col>AVG_YIELD</th></tr>\n",
       "\t<tr><th></th><th scope=col>&lt;int&gt;</th><th scope=col>&lt;fct&gt;</th><th scope=col>&lt;fct&gt;</th><th scope=col>&lt;fct&gt;</th><th scope=col>&lt;int&gt;</th><th scope=col>&lt;int&gt;</th><th scope=col>&lt;int&gt;</th><th scope=col>&lt;int&gt;</th></tr>\n",
       "</thead>\n",
       "<tbody>\n",
       "\t<tr><th scope=row>1</th><td>0</td><td>1965-12-31</td><td>Barley</td><td>Alberta     </td><td>1372000</td><td>1372000</td><td>2504000</td><td>1825</td></tr>\n",
       "\t<tr><th scope=row>2</th><td>1</td><td>1965-12-31</td><td>Barley</td><td>Canada      </td><td>2476800</td><td>2476800</td><td>4752900</td><td>1920</td></tr>\n",
       "\t<tr><th scope=row>3</th><td>2</td><td>1965-12-31</td><td>Barley</td><td>Saskatchewan</td><td> 708000</td><td> 708000</td><td>1415000</td><td>2000</td></tr>\n",
       "\t<tr><th scope=row>4</th><td>3</td><td>1965-12-31</td><td>Canola</td><td>Alberta     </td><td> 297400</td><td> 297400</td><td> 215500</td><td> 725</td></tr>\n",
       "\t<tr><th scope=row>5</th><td>4</td><td>1965-12-31</td><td>Canola</td><td>Canada      </td><td> 580700</td><td> 580700</td><td> 512600</td><td> 885</td></tr>\n",
       "\t<tr><th scope=row>6</th><td>5</td><td>1965-12-31</td><td>Canola</td><td>Saskatchewan</td><td> 224600</td><td> 224600</td><td> 242700</td><td>1080</td></tr>\n",
       "</tbody>\n",
       "</table>\n"
      ],
      "text/latex": [
       "A data.frame: 6 × 8\n",
       "\\begin{tabular}{r|llllllll}\n",
       "  & CD\\_ID & YEAR & CROP\\_TYPE & GEO & SEEDED\\_AREA & HARVESTED\\_AREA & PRODUCTION & AVG\\_YIELD\\\\\n",
       "  & <int> & <fct> & <fct> & <fct> & <int> & <int> & <int> & <int>\\\\\n",
       "\\hline\n",
       "\t1 & 0 & 1965-12-31 & Barley & Alberta      & 1372000 & 1372000 & 2504000 & 1825\\\\\n",
       "\t2 & 1 & 1965-12-31 & Barley & Canada       & 2476800 & 2476800 & 4752900 & 1920\\\\\n",
       "\t3 & 2 & 1965-12-31 & Barley & Saskatchewan &  708000 &  708000 & 1415000 & 2000\\\\\n",
       "\t4 & 3 & 1965-12-31 & Canola & Alberta      &  297400 &  297400 &  215500 &  725\\\\\n",
       "\t5 & 4 & 1965-12-31 & Canola & Canada       &  580700 &  580700 &  512600 &  885\\\\\n",
       "\t6 & 5 & 1965-12-31 & Canola & Saskatchewan &  224600 &  224600 &  242700 & 1080\\\\\n",
       "\\end{tabular}\n"
      ],
      "text/markdown": [
       "\n",
       "A data.frame: 6 × 8\n",
       "\n",
       "| <!--/--> | CD_ID &lt;int&gt; | YEAR &lt;fct&gt; | CROP_TYPE &lt;fct&gt; | GEO &lt;fct&gt; | SEEDED_AREA &lt;int&gt; | HARVESTED_AREA &lt;int&gt; | PRODUCTION &lt;int&gt; | AVG_YIELD &lt;int&gt; |\n",
       "|---|---|---|---|---|---|---|---|---|\n",
       "| 1 | 0 | 1965-12-31 | Barley | Alberta      | 1372000 | 1372000 | 2504000 | 1825 |\n",
       "| 2 | 1 | 1965-12-31 | Barley | Canada       | 2476800 | 2476800 | 4752900 | 1920 |\n",
       "| 3 | 2 | 1965-12-31 | Barley | Saskatchewan |  708000 |  708000 | 1415000 | 2000 |\n",
       "| 4 | 3 | 1965-12-31 | Canola | Alberta      |  297400 |  297400 |  215500 |  725 |\n",
       "| 5 | 4 | 1965-12-31 | Canola | Canada       |  580700 |  580700 |  512600 |  885 |\n",
       "| 6 | 5 | 1965-12-31 | Canola | Saskatchewan |  224600 |  224600 |  242700 | 1080 |\n",
       "\n"
      ],
      "text/plain": [
       "  CD_ID YEAR       CROP_TYPE GEO          SEEDED_AREA HARVESTED_AREA PRODUCTION\n",
       "1 0     1965-12-31 Barley    Alberta      1372000     1372000        2504000   \n",
       "2 1     1965-12-31 Barley    Canada       2476800     2476800        4752900   \n",
       "3 2     1965-12-31 Barley    Saskatchewan  708000      708000        1415000   \n",
       "4 3     1965-12-31 Canola    Alberta       297400      297400         215500   \n",
       "5 4     1965-12-31 Canola    Canada        580700      580700         512600   \n",
       "6 5     1965-12-31 Canola    Saskatchewan  224600      224600         242700   \n",
       "  AVG_YIELD\n",
       "1 1825     \n",
       "2 1920     \n",
       "3 2000     \n",
       "4  725     \n",
       "5  885     \n",
       "6 1080     "
      ]
     },
     "metadata": {},
     "output_type": "display_data"
    },
    {
     "data": {
      "text/html": [
       "<table>\n",
       "<caption>A data.frame: 6 × 5</caption>\n",
       "<thead>\n",
       "\t<tr><th></th><th scope=col>CD_ID</th><th scope=col>DATE</th><th scope=col>CROP_TYPE</th><th scope=col>GEO</th><th scope=col>PRICE_PRERMT</th></tr>\n",
       "\t<tr><th></th><th scope=col>&lt;int&gt;</th><th scope=col>&lt;fct&gt;</th><th scope=col>&lt;fct&gt;</th><th scope=col>&lt;fct&gt;</th><th scope=col>&lt;dbl&gt;</th></tr>\n",
       "</thead>\n",
       "<tbody>\n",
       "\t<tr><th scope=row>1</th><td>0</td><td>1985-01-01</td><td>Barley</td><td>Alberta     </td><td>127.39</td></tr>\n",
       "\t<tr><th scope=row>2</th><td>1</td><td>1985-01-01</td><td>Barley</td><td>Saskatchewan</td><td>121.38</td></tr>\n",
       "\t<tr><th scope=row>3</th><td>2</td><td>1985-01-01</td><td>Canola</td><td>Alberta     </td><td>342.00</td></tr>\n",
       "\t<tr><th scope=row>4</th><td>3</td><td>1985-01-01</td><td>Canola</td><td>Saskatchewan</td><td>339.82</td></tr>\n",
       "\t<tr><th scope=row>5</th><td>4</td><td>1985-01-01</td><td>Rye   </td><td>Alberta     </td><td>100.77</td></tr>\n",
       "\t<tr><th scope=row>6</th><td>5</td><td>1985-01-01</td><td>Rye   </td><td>Saskatchewan</td><td>109.75</td></tr>\n",
       "</tbody>\n",
       "</table>\n"
      ],
      "text/latex": [
       "A data.frame: 6 × 5\n",
       "\\begin{tabular}{r|lllll}\n",
       "  & CD\\_ID & DATE & CROP\\_TYPE & GEO & PRICE\\_PRERMT\\\\\n",
       "  & <int> & <fct> & <fct> & <fct> & <dbl>\\\\\n",
       "\\hline\n",
       "\t1 & 0 & 1985-01-01 & Barley & Alberta      & 127.39\\\\\n",
       "\t2 & 1 & 1985-01-01 & Barley & Saskatchewan & 121.38\\\\\n",
       "\t3 & 2 & 1985-01-01 & Canola & Alberta      & 342.00\\\\\n",
       "\t4 & 3 & 1985-01-01 & Canola & Saskatchewan & 339.82\\\\\n",
       "\t5 & 4 & 1985-01-01 & Rye    & Alberta      & 100.77\\\\\n",
       "\t6 & 5 & 1985-01-01 & Rye    & Saskatchewan & 109.75\\\\\n",
       "\\end{tabular}\n"
      ],
      "text/markdown": [
       "\n",
       "A data.frame: 6 × 5\n",
       "\n",
       "| <!--/--> | CD_ID &lt;int&gt; | DATE &lt;fct&gt; | CROP_TYPE &lt;fct&gt; | GEO &lt;fct&gt; | PRICE_PRERMT &lt;dbl&gt; |\n",
       "|---|---|---|---|---|---|\n",
       "| 1 | 0 | 1985-01-01 | Barley | Alberta      | 127.39 |\n",
       "| 2 | 1 | 1985-01-01 | Barley | Saskatchewan | 121.38 |\n",
       "| 3 | 2 | 1985-01-01 | Canola | Alberta      | 342.00 |\n",
       "| 4 | 3 | 1985-01-01 | Canola | Saskatchewan | 339.82 |\n",
       "| 5 | 4 | 1985-01-01 | Rye    | Alberta      | 100.77 |\n",
       "| 6 | 5 | 1985-01-01 | Rye    | Saskatchewan | 109.75 |\n",
       "\n"
      ],
      "text/plain": [
       "  CD_ID DATE       CROP_TYPE GEO          PRICE_PRERMT\n",
       "1 0     1985-01-01 Barley    Alberta      127.39      \n",
       "2 1     1985-01-01 Barley    Saskatchewan 121.38      \n",
       "3 2     1985-01-01 Canola    Alberta      342.00      \n",
       "4 3     1985-01-01 Canola    Saskatchewan 339.82      \n",
       "5 4     1985-01-01 Rye       Alberta      100.77      \n",
       "6 5     1985-01-01 Rye       Saskatchewan 109.75      "
      ]
     },
     "metadata": {},
     "output_type": "display_data"
    },
    {
     "data": {
      "text/html": [
       "<table>\n",
       "<caption>A data.frame: 6 × 3</caption>\n",
       "<thead>\n",
       "\t<tr><th></th><th scope=col>DFX_ID</th><th scope=col>DATE</th><th scope=col>FXUSDCAD</th></tr>\n",
       "\t<tr><th></th><th scope=col>&lt;int&gt;</th><th scope=col>&lt;fct&gt;</th><th scope=col>&lt;dbl&gt;</th></tr>\n",
       "</thead>\n",
       "<tbody>\n",
       "\t<tr><th scope=row>1</th><td>0</td><td>2017-01-03</td><td>1.3435</td></tr>\n",
       "\t<tr><th scope=row>2</th><td>1</td><td>2017-01-04</td><td>1.3315</td></tr>\n",
       "\t<tr><th scope=row>3</th><td>2</td><td>2017-01-05</td><td>1.3244</td></tr>\n",
       "\t<tr><th scope=row>4</th><td>3</td><td>2017-01-06</td><td>1.3214</td></tr>\n",
       "\t<tr><th scope=row>5</th><td>4</td><td>2017-01-09</td><td>1.3240</td></tr>\n",
       "\t<tr><th scope=row>6</th><td>5</td><td>2017-01-10</td><td>1.3213</td></tr>\n",
       "</tbody>\n",
       "</table>\n"
      ],
      "text/latex": [
       "A data.frame: 6 × 3\n",
       "\\begin{tabular}{r|lll}\n",
       "  & DFX\\_ID & DATE & FXUSDCAD\\\\\n",
       "  & <int> & <fct> & <dbl>\\\\\n",
       "\\hline\n",
       "\t1 & 0 & 2017-01-03 & 1.3435\\\\\n",
       "\t2 & 1 & 2017-01-04 & 1.3315\\\\\n",
       "\t3 & 2 & 2017-01-05 & 1.3244\\\\\n",
       "\t4 & 3 & 2017-01-06 & 1.3214\\\\\n",
       "\t5 & 4 & 2017-01-09 & 1.3240\\\\\n",
       "\t6 & 5 & 2017-01-10 & 1.3213\\\\\n",
       "\\end{tabular}\n"
      ],
      "text/markdown": [
       "\n",
       "A data.frame: 6 × 3\n",
       "\n",
       "| <!--/--> | DFX_ID &lt;int&gt; | DATE &lt;fct&gt; | FXUSDCAD &lt;dbl&gt; |\n",
       "|---|---|---|---|\n",
       "| 1 | 0 | 2017-01-03 | 1.3435 |\n",
       "| 2 | 1 | 2017-01-04 | 1.3315 |\n",
       "| 3 | 2 | 2017-01-05 | 1.3244 |\n",
       "| 4 | 3 | 2017-01-06 | 1.3214 |\n",
       "| 5 | 4 | 2017-01-09 | 1.3240 |\n",
       "| 6 | 5 | 2017-01-10 | 1.3213 |\n",
       "\n"
      ],
      "text/plain": [
       "  DFX_ID DATE       FXUSDCAD\n",
       "1 0      2017-01-03 1.3435  \n",
       "2 1      2017-01-04 1.3315  \n",
       "3 2      2017-01-05 1.3244  \n",
       "4 3      2017-01-06 1.3214  \n",
       "5 4      2017-01-09 1.3240  \n",
       "6 5      2017-01-10 1.3213  "
      ]
     },
     "metadata": {},
     "output_type": "display_data"
    },
    {
     "data": {
      "text/html": [
       "<table>\n",
       "<caption>A data.frame: 6 × 3</caption>\n",
       "<thead>\n",
       "\t<tr><th></th><th scope=col>DFX_ID</th><th scope=col>DATE</th><th scope=col>FXUSDCAD</th></tr>\n",
       "\t<tr><th></th><th scope=col>&lt;int&gt;</th><th scope=col>&lt;fct&gt;</th><th scope=col>&lt;dbl&gt;</th></tr>\n",
       "</thead>\n",
       "<tbody>\n",
       "\t<tr><th scope=row>1</th><td>0</td><td>2017-01-01</td><td>1.319276</td></tr>\n",
       "\t<tr><th scope=row>2</th><td>1</td><td>2017-02-01</td><td>1.310726</td></tr>\n",
       "\t<tr><th scope=row>3</th><td>2</td><td>2017-03-01</td><td>1.338643</td></tr>\n",
       "\t<tr><th scope=row>4</th><td>3</td><td>2017-04-01</td><td>1.344021</td></tr>\n",
       "\t<tr><th scope=row>5</th><td>4</td><td>2017-05-01</td><td>1.360705</td></tr>\n",
       "\t<tr><th scope=row>6</th><td>5</td><td>2017-06-01</td><td>1.329805</td></tr>\n",
       "</tbody>\n",
       "</table>\n"
      ],
      "text/latex": [
       "A data.frame: 6 × 3\n",
       "\\begin{tabular}{r|lll}\n",
       "  & DFX\\_ID & DATE & FXUSDCAD\\\\\n",
       "  & <int> & <fct> & <dbl>\\\\\n",
       "\\hline\n",
       "\t1 & 0 & 2017-01-01 & 1.319276\\\\\n",
       "\t2 & 1 & 2017-02-01 & 1.310726\\\\\n",
       "\t3 & 2 & 2017-03-01 & 1.338643\\\\\n",
       "\t4 & 3 & 2017-04-01 & 1.344021\\\\\n",
       "\t5 & 4 & 2017-05-01 & 1.360705\\\\\n",
       "\t6 & 5 & 2017-06-01 & 1.329805\\\\\n",
       "\\end{tabular}\n"
      ],
      "text/markdown": [
       "\n",
       "A data.frame: 6 × 3\n",
       "\n",
       "| <!--/--> | DFX_ID &lt;int&gt; | DATE &lt;fct&gt; | FXUSDCAD &lt;dbl&gt; |\n",
       "|---|---|---|---|\n",
       "| 1 | 0 | 2017-01-01 | 1.319276 |\n",
       "| 2 | 1 | 2017-02-01 | 1.310726 |\n",
       "| 3 | 2 | 2017-03-01 | 1.338643 |\n",
       "| 4 | 3 | 2017-04-01 | 1.344021 |\n",
       "| 5 | 4 | 2017-05-01 | 1.360705 |\n",
       "| 6 | 5 | 2017-06-01 | 1.329805 |\n",
       "\n"
      ],
      "text/plain": [
       "  DFX_ID DATE       FXUSDCAD\n",
       "1 0      2017-01-01 1.319276\n",
       "2 1      2017-02-01 1.310726\n",
       "3 2      2017-03-01 1.338643\n",
       "4 3      2017-04-01 1.344021\n",
       "5 4      2017-05-01 1.360705\n",
       "6 5      2017-06-01 1.329805"
      ]
     },
     "metadata": {},
     "output_type": "display_data"
    }
   ],
   "source": [
    "crop_df <-read.csv('https://cf-courses-data.s3.us.cloud-object-storage.appdomain.cloud/IBM-RP0203EN-SkillsNetwork/labs/Final%20Project/Annual_Crop_Data.csv', colClasses=c(year=\"character\"))\n",
    "farm_df <-read.csv('https://cf-courses-data.s3.us.cloud-object-storage.appdomain.cloud/IBM-RP0203EN-SkillsNetwork/labs/Final%20Project/Monthly_Farm_Prices.csv', colClasses=c(MONTHLY=\"character\"))\n",
    "daily_df <-read.csv('https://cf-courses-data.s3.us.cloud-object-storage.appdomain.cloud/IBM-RP0203EN-SkillsNetwork/labs/Final%20Project/Daily_FX.csv', colClasses=c(date=\"character\"))\n",
    "monthly_df <-read.csv('https://cf-courses-data.s3.us.cloud-object-storage.appdomain.cloud/IBM-RP0203EN-SkillsNetwork/labs/Final%20Project/Monthly_FX.csv', colClasses=c(MONTHLY=\"character\"))\n",
    "\n",
    "head(crop_df)\n",
    "head(farm_df)\n",
    "head(daily_df)\n",
    "head(monthly_df)\n",
    "\n",
    "sqlSave(conn, crop_df, \"CROP_DATA\", append=TRUE, fast=FALSE, rownames=FALSE, colnames=FALSE, verbose=FALSE)\n",
    "sqlSave(conn, farm_df, \"FARM_PRICES\", append=TRUE, fast=FALSE, rownames=FALSE, colnames=FALSE, verbose=FALSE)\n",
    "sqlSave(conn, daily_df, \"DAILY_FX\", append=TRUE, fast=FALSE, rownames=FALSE, colnames=FALSE, verbose=FALSE)\n",
    "sqlSave(conn, monthly_df, \"MONTHLY_FX\", append=TRUE, fast=FALSE, rownames=FALSE, colnames=FALSE, verbose=FALSE)\n",
    "\n"
   ]
  },
  {
   "cell_type": "markdown",
   "metadata": {},
   "source": [
    "## Now execute SQL queries using the RODBC R package to solve the assignment problems.\n",
    "\n",
    "## Problem 3\n",
    "#### How many records are in the farm prices dataset?\n"
   ]
  },
  {
   "cell_type": "markdown",
   "metadata": {},
   "source": [
    "### Solution 3\n"
   ]
  },
  {
   "cell_type": "code",
   "execution_count": 13,
   "metadata": {
    "tags": []
   },
   "outputs": [
    {
     "data": {
      "text/html": [
       "<table>\n",
       "<caption>A data.frame: 1 × 1</caption>\n",
       "<thead>\n",
       "\t<tr><th></th><th scope=col>RECORD</th></tr>\n",
       "\t<tr><th></th><th scope=col>&lt;int&gt;</th></tr>\n",
       "</thead>\n",
       "<tbody>\n",
       "\t<tr><th scope=row>1</th><td>2678</td></tr>\n",
       "</tbody>\n",
       "</table>\n"
      ],
      "text/latex": [
       "A data.frame: 1 × 1\n",
       "\\begin{tabular}{r|l}\n",
       "  & RECORD\\\\\n",
       "  & <int>\\\\\n",
       "\\hline\n",
       "\t1 & 2678\\\\\n",
       "\\end{tabular}\n"
      ],
      "text/markdown": [
       "\n",
       "A data.frame: 1 × 1\n",
       "\n",
       "| <!--/--> | RECORD &lt;int&gt; |\n",
       "|---|---|\n",
       "| 1 | 2678 |\n",
       "\n"
      ],
      "text/plain": [
       "  RECORD\n",
       "1 2678  "
      ]
     },
     "metadata": {},
     "output_type": "display_data"
    }
   ],
   "source": [
    "query <- \"SELECT COUNT(*) AS RECORD \n",
    "          FROM FARM_PRICES;\"\n",
    "\n",
    "view <- sqlQuery(conn,query)\n",
    "view"
   ]
  },
  {
   "cell_type": "markdown",
   "metadata": {},
   "source": [
    "## Problem 4\n",
    "#### Which geographies are included in the farm prices dataset?\n"
   ]
  },
  {
   "cell_type": "markdown",
   "metadata": {},
   "source": [
    "### Solution 4\n"
   ]
  },
  {
   "cell_type": "code",
   "execution_count": 14,
   "metadata": {
    "tags": []
   },
   "outputs": [
    {
     "data": {
      "text/html": [
       "<table>\n",
       "<caption>A data.frame: 2 × 1</caption>\n",
       "<thead>\n",
       "\t<tr><th></th><th scope=col>CITY</th></tr>\n",
       "\t<tr><th></th><th scope=col>&lt;fct&gt;</th></tr>\n",
       "</thead>\n",
       "<tbody>\n",
       "\t<tr><th scope=row>1</th><td>Alberta     </td></tr>\n",
       "\t<tr><th scope=row>2</th><td>Saskatchewan</td></tr>\n",
       "</tbody>\n",
       "</table>\n"
      ],
      "text/latex": [
       "A data.frame: 2 × 1\n",
       "\\begin{tabular}{r|l}\n",
       "  & CITY\\\\\n",
       "  & <fct>\\\\\n",
       "\\hline\n",
       "\t1 & Alberta     \\\\\n",
       "\t2 & Saskatchewan\\\\\n",
       "\\end{tabular}\n"
      ],
      "text/markdown": [
       "\n",
       "A data.frame: 2 × 1\n",
       "\n",
       "| <!--/--> | CITY &lt;fct&gt; |\n",
       "|---|---|\n",
       "| 1 | Alberta      |\n",
       "| 2 | Saskatchewan |\n",
       "\n"
      ],
      "text/plain": [
       "  CITY        \n",
       "1 Alberta     \n",
       "2 Saskatchewan"
      ]
     },
     "metadata": {},
     "output_type": "display_data"
    }
   ],
   "source": [
    "query <- \"SELECT DISTINCT(GEO) AS CITY\n",
    "          FROM FARM_PRICES;\"\n",
    "\n",
    "view <- sqlQuery(conn,query)\n",
    "view"
   ]
  },
  {
   "cell_type": "markdown",
   "metadata": {},
   "source": [
    "## Problem 5\n",
    "#### How many hectares of Rye were harvested in Canada in 1968?\n"
   ]
  },
  {
   "cell_type": "markdown",
   "metadata": {},
   "source": [
    "### Solution 5\n"
   ]
  },
  {
   "cell_type": "code",
   "execution_count": 15,
   "metadata": {
    "tags": []
   },
   "outputs": [
    {
     "data": {
      "text/html": [
       "<table>\n",
       "<caption>A data.frame: 1 × 1</caption>\n",
       "<thead>\n",
       "\t<tr><th></th><th scope=col>TOTAL_AREA_HARVESTED</th></tr>\n",
       "\t<tr><th></th><th scope=col>&lt;int&gt;</th></tr>\n",
       "</thead>\n",
       "<tbody>\n",
       "\t<tr><th scope=row>1</th><td>274100</td></tr>\n",
       "</tbody>\n",
       "</table>\n"
      ],
      "text/latex": [
       "A data.frame: 1 × 1\n",
       "\\begin{tabular}{r|l}\n",
       "  & TOTAL\\_AREA\\_HARVESTED\\\\\n",
       "  & <int>\\\\\n",
       "\\hline\n",
       "\t1 & 274100\\\\\n",
       "\\end{tabular}\n"
      ],
      "text/markdown": [
       "\n",
       "A data.frame: 1 × 1\n",
       "\n",
       "| <!--/--> | TOTAL_AREA_HARVESTED &lt;int&gt; |\n",
       "|---|---|\n",
       "| 1 | 274100 |\n",
       "\n"
      ],
      "text/plain": [
       "  TOTAL_AREA_HARVESTED\n",
       "1 274100              "
      ]
     },
     "metadata": {},
     "output_type": "display_data"
    }
   ],
   "source": [
    "query <-\"SELECT SUM(HARVESTED_AREA) AS TOTAL_AREA_HARVESTED\n",
    "        FROM CROP_DATA WHERE GEO = 'Canada' AND CROP_TYPE = 'Rye' AND YEAR(YEAR) = 1968;\"\n",
    "\n",
    "view <- sqlQuery(conn,query)\n",
    "view"
   ]
  },
  {
   "cell_type": "markdown",
   "metadata": {},
   "source": [
    "## Problem 6\n",
    "#### Query and display the first 6 rows of the farm prices table for Rye.\n"
   ]
  },
  {
   "cell_type": "markdown",
   "metadata": {},
   "source": [
    "### Solution 6\n"
   ]
  },
  {
   "cell_type": "code",
   "execution_count": 16,
   "metadata": {
    "tags": []
   },
   "outputs": [
    {
     "data": {
      "text/html": [
       "<table>\n",
       "<caption>A data.frame: 6 × 5</caption>\n",
       "<thead>\n",
       "\t<tr><th></th><th scope=col>CD_ID</th><th scope=col>DATE</th><th scope=col>CROP_TYPE</th><th scope=col>GEO</th><th scope=col>PRICE_PRERMT</th></tr>\n",
       "\t<tr><th></th><th scope=col>&lt;int&gt;</th><th scope=col>&lt;date&gt;</th><th scope=col>&lt;fct&gt;</th><th scope=col>&lt;fct&gt;</th><th scope=col>&lt;int&gt;</th></tr>\n",
       "</thead>\n",
       "<tbody>\n",
       "\t<tr><th scope=row>1</th><td> 4</td><td>1985-01-01</td><td>Rye</td><td>Alberta     </td><td>100</td></tr>\n",
       "\t<tr><th scope=row>2</th><td> 5</td><td>1985-01-01</td><td>Rye</td><td>Saskatchewan</td><td>109</td></tr>\n",
       "\t<tr><th scope=row>3</th><td>10</td><td>1985-02-01</td><td>Rye</td><td>Alberta     </td><td> 95</td></tr>\n",
       "\t<tr><th scope=row>4</th><td>11</td><td>1985-02-01</td><td>Rye</td><td>Saskatchewan</td><td>103</td></tr>\n",
       "\t<tr><th scope=row>5</th><td>16</td><td>1985-03-01</td><td>Rye</td><td>Alberta     </td><td> 96</td></tr>\n",
       "\t<tr><th scope=row>6</th><td>17</td><td>1985-03-01</td><td>Rye</td><td>Saskatchewan</td><td>106</td></tr>\n",
       "</tbody>\n",
       "</table>\n"
      ],
      "text/latex": [
       "A data.frame: 6 × 5\n",
       "\\begin{tabular}{r|lllll}\n",
       "  & CD\\_ID & DATE & CROP\\_TYPE & GEO & PRICE\\_PRERMT\\\\\n",
       "  & <int> & <date> & <fct> & <fct> & <int>\\\\\n",
       "\\hline\n",
       "\t1 &  4 & 1985-01-01 & Rye & Alberta      & 100\\\\\n",
       "\t2 &  5 & 1985-01-01 & Rye & Saskatchewan & 109\\\\\n",
       "\t3 & 10 & 1985-02-01 & Rye & Alberta      &  95\\\\\n",
       "\t4 & 11 & 1985-02-01 & Rye & Saskatchewan & 103\\\\\n",
       "\t5 & 16 & 1985-03-01 & Rye & Alberta      &  96\\\\\n",
       "\t6 & 17 & 1985-03-01 & Rye & Saskatchewan & 106\\\\\n",
       "\\end{tabular}\n"
      ],
      "text/markdown": [
       "\n",
       "A data.frame: 6 × 5\n",
       "\n",
       "| <!--/--> | CD_ID &lt;int&gt; | DATE &lt;date&gt; | CROP_TYPE &lt;fct&gt; | GEO &lt;fct&gt; | PRICE_PRERMT &lt;int&gt; |\n",
       "|---|---|---|---|---|---|\n",
       "| 1 |  4 | 1985-01-01 | Rye | Alberta      | 100 |\n",
       "| 2 |  5 | 1985-01-01 | Rye | Saskatchewan | 109 |\n",
       "| 3 | 10 | 1985-02-01 | Rye | Alberta      |  95 |\n",
       "| 4 | 11 | 1985-02-01 | Rye | Saskatchewan | 103 |\n",
       "| 5 | 16 | 1985-03-01 | Rye | Alberta      |  96 |\n",
       "| 6 | 17 | 1985-03-01 | Rye | Saskatchewan | 106 |\n",
       "\n"
      ],
      "text/plain": [
       "  CD_ID DATE       CROP_TYPE GEO          PRICE_PRERMT\n",
       "1  4    1985-01-01 Rye       Alberta      100         \n",
       "2  5    1985-01-01 Rye       Saskatchewan 109         \n",
       "3 10    1985-02-01 Rye       Alberta       95         \n",
       "4 11    1985-02-01 Rye       Saskatchewan 103         \n",
       "5 16    1985-03-01 Rye       Alberta       96         \n",
       "6 17    1985-03-01 Rye       Saskatchewan 106         "
      ]
     },
     "metadata": {},
     "output_type": "display_data"
    }
   ],
   "source": [
    "query <- \"SELECT * FROM FARM_PRICES WHERE CROP_TYPE='Rye' LIMIT 6;\"\n",
    "view <- sqlQuery(conn,query)\n",
    "view"
   ]
  },
  {
   "cell_type": "markdown",
   "metadata": {},
   "source": [
    "## Problem 7\n",
    "#### Which provinces grew Barley? \n"
   ]
  },
  {
   "cell_type": "markdown",
   "metadata": {},
   "source": [
    "### Solution 7\n"
   ]
  },
  {
   "cell_type": "code",
   "execution_count": 27,
   "metadata": {
    "tags": []
   },
   "outputs": [
    {
     "data": {
      "text/html": [
       "<table>\n",
       "<caption>A data.frame: 3 × 2</caption>\n",
       "<thead>\n",
       "\t<tr><th></th><th scope=col>TYPE_CROP</th><th scope=col>GEO</th></tr>\n",
       "\t<tr><th></th><th scope=col>&lt;fct&gt;</th><th scope=col>&lt;fct&gt;</th></tr>\n",
       "</thead>\n",
       "<tbody>\n",
       "\t<tr><th scope=row>1</th><td>Barley</td><td>Alberta     </td></tr>\n",
       "\t<tr><th scope=row>2</th><td>Barley</td><td>Canada      </td></tr>\n",
       "\t<tr><th scope=row>3</th><td>Barley</td><td>Saskatchewan</td></tr>\n",
       "</tbody>\n",
       "</table>\n"
      ],
      "text/latex": [
       "A data.frame: 3 × 2\n",
       "\\begin{tabular}{r|ll}\n",
       "  & TYPE\\_CROP & GEO\\\\\n",
       "  & <fct> & <fct>\\\\\n",
       "\\hline\n",
       "\t1 & Barley & Alberta     \\\\\n",
       "\t2 & Barley & Canada      \\\\\n",
       "\t3 & Barley & Saskatchewan\\\\\n",
       "\\end{tabular}\n"
      ],
      "text/markdown": [
       "\n",
       "A data.frame: 3 × 2\n",
       "\n",
       "| <!--/--> | TYPE_CROP &lt;fct&gt; | GEO &lt;fct&gt; |\n",
       "|---|---|---|\n",
       "| 1 | Barley | Alberta      |\n",
       "| 2 | Barley | Canada       |\n",
       "| 3 | Barley | Saskatchewan |\n",
       "\n"
      ],
      "text/plain": [
       "  TYPE_CROP GEO         \n",
       "1 Barley    Alberta     \n",
       "2 Barley    Canada      \n",
       "3 Barley    Saskatchewan"
      ]
     },
     "metadata": {},
     "output_type": "display_data"
    }
   ],
   "source": [
    "query <- \"SELECT DISTINCT(CROP_TYPE) AS TYPE_CROP, GEO FROM CROP_DATA\n",
    "          WHERE CROP_TYPE = 'Barley';\"\n",
    "    \n",
    "view <- sqlQuery(conn,query)\n",
    "view"
   ]
  },
  {
   "cell_type": "markdown",
   "metadata": {},
   "source": [
    "## Problem 8\n",
    "#### Find the first and last dates for the farm prices data.\n"
   ]
  },
  {
   "cell_type": "markdown",
   "metadata": {},
   "source": [
    "### Solution 8\n"
   ]
  },
  {
   "cell_type": "code",
   "execution_count": 21,
   "metadata": {
    "tags": []
   },
   "outputs": [
    {
     "data": {
      "text/html": [
       "<table>\n",
       "<caption>A data.frame: 1 × 2</caption>\n",
       "<thead>\n",
       "\t<tr><th></th><th scope=col>FIRST_DATE</th><th scope=col>LAST_DATE</th></tr>\n",
       "\t<tr><th></th><th scope=col>&lt;date&gt;</th><th scope=col>&lt;date&gt;</th></tr>\n",
       "</thead>\n",
       "<tbody>\n",
       "\t<tr><th scope=row>1</th><td>1985-01-01</td><td>2020-12-01</td></tr>\n",
       "</tbody>\n",
       "</table>\n"
      ],
      "text/latex": [
       "A data.frame: 1 × 2\n",
       "\\begin{tabular}{r|ll}\n",
       "  & FIRST\\_DATE & LAST\\_DATE\\\\\n",
       "  & <date> & <date>\\\\\n",
       "\\hline\n",
       "\t1 & 1985-01-01 & 2020-12-01\\\\\n",
       "\\end{tabular}\n"
      ],
      "text/markdown": [
       "\n",
       "A data.frame: 1 × 2\n",
       "\n",
       "| <!--/--> | FIRST_DATE &lt;date&gt; | LAST_DATE &lt;date&gt; |\n",
       "|---|---|---|\n",
       "| 1 | 1985-01-01 | 2020-12-01 |\n",
       "\n"
      ],
      "text/plain": [
       "  FIRST_DATE LAST_DATE \n",
       "1 1985-01-01 2020-12-01"
      ]
     },
     "metadata": {},
     "output_type": "display_data"
    }
   ],
   "source": [
    "query <-\"SELECT min(DATE) FIRST_DATE, max(DATE) LAST_DATE\n",
    "    FROM FARM_PRICES;\"\n",
    "view <- sqlQuery(conn,query)\n",
    "view"
   ]
  },
  {
   "cell_type": "markdown",
   "metadata": {},
   "source": [
    "## Problem 9\n",
    "#### Which crops have ever reached a farm price greater than or equal to &#0036;350 per metric tonne?\n"
   ]
  },
  {
   "cell_type": "markdown",
   "metadata": {},
   "source": [
    "### Solution 9\n"
   ]
  },
  {
   "cell_type": "code",
   "execution_count": 29,
   "metadata": {
    "tags": []
   },
   "outputs": [
    {
     "data": {
      "text/html": [
       "<table>\n",
       "<caption>A data.frame: 469 × 2</caption>\n",
       "<thead>\n",
       "\t<tr><th></th><th scope=col>CROP_TYPE</th><th scope=col>PRICE_PRERMT</th></tr>\n",
       "\t<tr><th></th><th scope=col>&lt;fct&gt;</th><th scope=col>&lt;int&gt;</th></tr>\n",
       "</thead>\n",
       "<tbody>\n",
       "\t<tr><th scope=row>1</th><td>Canola</td><td>350</td></tr>\n",
       "\t<tr><th scope=row>2</th><td>Canola</td><td>363</td></tr>\n",
       "\t<tr><th scope=row>3</th><td>Canola</td><td>364</td></tr>\n",
       "\t<tr><th scope=row>4</th><td>Canola</td><td>354</td></tr>\n",
       "\t<tr><th scope=row>5</th><td>Canola</td><td>359</td></tr>\n",
       "\t<tr><th scope=row>6</th><td>Canola</td><td>350</td></tr>\n",
       "\t<tr><th scope=row>7</th><td>Canola</td><td>354</td></tr>\n",
       "\t<tr><th scope=row>8</th><td>Canola</td><td>354</td></tr>\n",
       "\t<tr><th scope=row>9</th><td>Canola</td><td>357</td></tr>\n",
       "\t<tr><th scope=row>10</th><td>Canola</td><td>368</td></tr>\n",
       "\t<tr><th scope=row>11</th><td>Canola</td><td>373</td></tr>\n",
       "\t<tr><th scope=row>12</th><td>Canola</td><td>381</td></tr>\n",
       "\t<tr><th scope=row>13</th><td>Canola</td><td>380</td></tr>\n",
       "\t<tr><th scope=row>14</th><td>Canola</td><td>384</td></tr>\n",
       "\t<tr><th scope=row>15</th><td>Canola</td><td>358</td></tr>\n",
       "\t<tr><th scope=row>16</th><td>Canola</td><td>357</td></tr>\n",
       "\t<tr><th scope=row>17</th><td>Canola</td><td>367</td></tr>\n",
       "\t<tr><th scope=row>18</th><td>Canola</td><td>367</td></tr>\n",
       "\t<tr><th scope=row>19</th><td>Canola</td><td>390</td></tr>\n",
       "\t<tr><th scope=row>20</th><td>Canola</td><td>390</td></tr>\n",
       "\t<tr><th scope=row>21</th><td>Canola</td><td>402</td></tr>\n",
       "\t<tr><th scope=row>22</th><td>Canola</td><td>402</td></tr>\n",
       "\t<tr><th scope=row>23</th><td>Canola</td><td>393</td></tr>\n",
       "\t<tr><th scope=row>24</th><td>Canola</td><td>385</td></tr>\n",
       "\t<tr><th scope=row>25</th><td>Canola</td><td>375</td></tr>\n",
       "\t<tr><th scope=row>26</th><td>Canola</td><td>364</td></tr>\n",
       "\t<tr><th scope=row>27</th><td>Canola</td><td>367</td></tr>\n",
       "\t<tr><th scope=row>28</th><td>Canola</td><td>362</td></tr>\n",
       "\t<tr><th scope=row>29</th><td>Canola</td><td>370</td></tr>\n",
       "\t<tr><th scope=row>30</th><td>Canola</td><td>366</td></tr>\n",
       "\t<tr><th scope=row>⋮</th><td>⋮</td><td>⋮</td></tr>\n",
       "\t<tr><th scope=row>440</th><td>Canola</td><td>433</td></tr>\n",
       "\t<tr><th scope=row>441</th><td>Canola</td><td>432</td></tr>\n",
       "\t<tr><th scope=row>442</th><td>Canola</td><td>434</td></tr>\n",
       "\t<tr><th scope=row>443</th><td>Canola</td><td>434</td></tr>\n",
       "\t<tr><th scope=row>444</th><td>Canola</td><td>435</td></tr>\n",
       "\t<tr><th scope=row>445</th><td>Canola</td><td>437</td></tr>\n",
       "\t<tr><th scope=row>446</th><td>Canola</td><td>442</td></tr>\n",
       "\t<tr><th scope=row>447</th><td>Canola</td><td>447</td></tr>\n",
       "\t<tr><th scope=row>448</th><td>Canola</td><td>447</td></tr>\n",
       "\t<tr><th scope=row>449</th><td>Canola</td><td>449</td></tr>\n",
       "\t<tr><th scope=row>450</th><td>Canola</td><td>442</td></tr>\n",
       "\t<tr><th scope=row>451</th><td>Canola</td><td>447</td></tr>\n",
       "\t<tr><th scope=row>452</th><td>Canola</td><td>443</td></tr>\n",
       "\t<tr><th scope=row>453</th><td>Canola</td><td>450</td></tr>\n",
       "\t<tr><th scope=row>454</th><td>Canola</td><td>448</td></tr>\n",
       "\t<tr><th scope=row>455</th><td>Canola</td><td>451</td></tr>\n",
       "\t<tr><th scope=row>456</th><td>Canola</td><td>446</td></tr>\n",
       "\t<tr><th scope=row>457</th><td>Canola</td><td>453</td></tr>\n",
       "\t<tr><th scope=row>458</th><td>Canola</td><td>459</td></tr>\n",
       "\t<tr><th scope=row>459</th><td>Canola</td><td>462</td></tr>\n",
       "\t<tr><th scope=row>460</th><td>Canola</td><td>461</td></tr>\n",
       "\t<tr><th scope=row>461</th><td>Canola</td><td>464</td></tr>\n",
       "\t<tr><th scope=row>462</th><td>Canola</td><td>468</td></tr>\n",
       "\t<tr><th scope=row>463</th><td>Canola</td><td>463</td></tr>\n",
       "\t<tr><th scope=row>464</th><td>Canola</td><td>472</td></tr>\n",
       "\t<tr><th scope=row>465</th><td>Canola</td><td>474</td></tr>\n",
       "\t<tr><th scope=row>466</th><td>Canola</td><td>490</td></tr>\n",
       "\t<tr><th scope=row>467</th><td>Canola</td><td>495</td></tr>\n",
       "\t<tr><th scope=row>468</th><td>Canola</td><td>509</td></tr>\n",
       "\t<tr><th scope=row>469</th><td>Canola</td><td>507</td></tr>\n",
       "</tbody>\n",
       "</table>\n"
      ],
      "text/latex": [
       "A data.frame: 469 × 2\n",
       "\\begin{tabular}{r|ll}\n",
       "  & CROP\\_TYPE & PRICE\\_PRERMT\\\\\n",
       "  & <fct> & <int>\\\\\n",
       "\\hline\n",
       "\t1 & Canola & 350\\\\\n",
       "\t2 & Canola & 363\\\\\n",
       "\t3 & Canola & 364\\\\\n",
       "\t4 & Canola & 354\\\\\n",
       "\t5 & Canola & 359\\\\\n",
       "\t6 & Canola & 350\\\\\n",
       "\t7 & Canola & 354\\\\\n",
       "\t8 & Canola & 354\\\\\n",
       "\t9 & Canola & 357\\\\\n",
       "\t10 & Canola & 368\\\\\n",
       "\t11 & Canola & 373\\\\\n",
       "\t12 & Canola & 381\\\\\n",
       "\t13 & Canola & 380\\\\\n",
       "\t14 & Canola & 384\\\\\n",
       "\t15 & Canola & 358\\\\\n",
       "\t16 & Canola & 357\\\\\n",
       "\t17 & Canola & 367\\\\\n",
       "\t18 & Canola & 367\\\\\n",
       "\t19 & Canola & 390\\\\\n",
       "\t20 & Canola & 390\\\\\n",
       "\t21 & Canola & 402\\\\\n",
       "\t22 & Canola & 402\\\\\n",
       "\t23 & Canola & 393\\\\\n",
       "\t24 & Canola & 385\\\\\n",
       "\t25 & Canola & 375\\\\\n",
       "\t26 & Canola & 364\\\\\n",
       "\t27 & Canola & 367\\\\\n",
       "\t28 & Canola & 362\\\\\n",
       "\t29 & Canola & 370\\\\\n",
       "\t30 & Canola & 366\\\\\n",
       "\t⋮ & ⋮ & ⋮\\\\\n",
       "\t440 & Canola & 433\\\\\n",
       "\t441 & Canola & 432\\\\\n",
       "\t442 & Canola & 434\\\\\n",
       "\t443 & Canola & 434\\\\\n",
       "\t444 & Canola & 435\\\\\n",
       "\t445 & Canola & 437\\\\\n",
       "\t446 & Canola & 442\\\\\n",
       "\t447 & Canola & 447\\\\\n",
       "\t448 & Canola & 447\\\\\n",
       "\t449 & Canola & 449\\\\\n",
       "\t450 & Canola & 442\\\\\n",
       "\t451 & Canola & 447\\\\\n",
       "\t452 & Canola & 443\\\\\n",
       "\t453 & Canola & 450\\\\\n",
       "\t454 & Canola & 448\\\\\n",
       "\t455 & Canola & 451\\\\\n",
       "\t456 & Canola & 446\\\\\n",
       "\t457 & Canola & 453\\\\\n",
       "\t458 & Canola & 459\\\\\n",
       "\t459 & Canola & 462\\\\\n",
       "\t460 & Canola & 461\\\\\n",
       "\t461 & Canola & 464\\\\\n",
       "\t462 & Canola & 468\\\\\n",
       "\t463 & Canola & 463\\\\\n",
       "\t464 & Canola & 472\\\\\n",
       "\t465 & Canola & 474\\\\\n",
       "\t466 & Canola & 490\\\\\n",
       "\t467 & Canola & 495\\\\\n",
       "\t468 & Canola & 509\\\\\n",
       "\t469 & Canola & 507\\\\\n",
       "\\end{tabular}\n"
      ],
      "text/markdown": [
       "\n",
       "A data.frame: 469 × 2\n",
       "\n",
       "| <!--/--> | CROP_TYPE &lt;fct&gt; | PRICE_PRERMT &lt;int&gt; |\n",
       "|---|---|---|\n",
       "| 1 | Canola | 350 |\n",
       "| 2 | Canola | 363 |\n",
       "| 3 | Canola | 364 |\n",
       "| 4 | Canola | 354 |\n",
       "| 5 | Canola | 359 |\n",
       "| 6 | Canola | 350 |\n",
       "| 7 | Canola | 354 |\n",
       "| 8 | Canola | 354 |\n",
       "| 9 | Canola | 357 |\n",
       "| 10 | Canola | 368 |\n",
       "| 11 | Canola | 373 |\n",
       "| 12 | Canola | 381 |\n",
       "| 13 | Canola | 380 |\n",
       "| 14 | Canola | 384 |\n",
       "| 15 | Canola | 358 |\n",
       "| 16 | Canola | 357 |\n",
       "| 17 | Canola | 367 |\n",
       "| 18 | Canola | 367 |\n",
       "| 19 | Canola | 390 |\n",
       "| 20 | Canola | 390 |\n",
       "| 21 | Canola | 402 |\n",
       "| 22 | Canola | 402 |\n",
       "| 23 | Canola | 393 |\n",
       "| 24 | Canola | 385 |\n",
       "| 25 | Canola | 375 |\n",
       "| 26 | Canola | 364 |\n",
       "| 27 | Canola | 367 |\n",
       "| 28 | Canola | 362 |\n",
       "| 29 | Canola | 370 |\n",
       "| 30 | Canola | 366 |\n",
       "| ⋮ | ⋮ | ⋮ |\n",
       "| 440 | Canola | 433 |\n",
       "| 441 | Canola | 432 |\n",
       "| 442 | Canola | 434 |\n",
       "| 443 | Canola | 434 |\n",
       "| 444 | Canola | 435 |\n",
       "| 445 | Canola | 437 |\n",
       "| 446 | Canola | 442 |\n",
       "| 447 | Canola | 447 |\n",
       "| 448 | Canola | 447 |\n",
       "| 449 | Canola | 449 |\n",
       "| 450 | Canola | 442 |\n",
       "| 451 | Canola | 447 |\n",
       "| 452 | Canola | 443 |\n",
       "| 453 | Canola | 450 |\n",
       "| 454 | Canola | 448 |\n",
       "| 455 | Canola | 451 |\n",
       "| 456 | Canola | 446 |\n",
       "| 457 | Canola | 453 |\n",
       "| 458 | Canola | 459 |\n",
       "| 459 | Canola | 462 |\n",
       "| 460 | Canola | 461 |\n",
       "| 461 | Canola | 464 |\n",
       "| 462 | Canola | 468 |\n",
       "| 463 | Canola | 463 |\n",
       "| 464 | Canola | 472 |\n",
       "| 465 | Canola | 474 |\n",
       "| 466 | Canola | 490 |\n",
       "| 467 | Canola | 495 |\n",
       "| 468 | Canola | 509 |\n",
       "| 469 | Canola | 507 |\n",
       "\n"
      ],
      "text/plain": [
       "    CROP_TYPE PRICE_PRERMT\n",
       "1   Canola    350         \n",
       "2   Canola    363         \n",
       "3   Canola    364         \n",
       "4   Canola    354         \n",
       "5   Canola    359         \n",
       "6   Canola    350         \n",
       "7   Canola    354         \n",
       "8   Canola    354         \n",
       "9   Canola    357         \n",
       "10  Canola    368         \n",
       "11  Canola    373         \n",
       "12  Canola    381         \n",
       "13  Canola    380         \n",
       "14  Canola    384         \n",
       "15  Canola    358         \n",
       "16  Canola    357         \n",
       "17  Canola    367         \n",
       "18  Canola    367         \n",
       "19  Canola    390         \n",
       "20  Canola    390         \n",
       "21  Canola    402         \n",
       "22  Canola    402         \n",
       "23  Canola    393         \n",
       "24  Canola    385         \n",
       "25  Canola    375         \n",
       "26  Canola    364         \n",
       "27  Canola    367         \n",
       "28  Canola    362         \n",
       "29  Canola    370         \n",
       "30  Canola    366         \n",
       "⋮   ⋮         ⋮           \n",
       "440 Canola    433         \n",
       "441 Canola    432         \n",
       "442 Canola    434         \n",
       "443 Canola    434         \n",
       "444 Canola    435         \n",
       "445 Canola    437         \n",
       "446 Canola    442         \n",
       "447 Canola    447         \n",
       "448 Canola    447         \n",
       "449 Canola    449         \n",
       "450 Canola    442         \n",
       "451 Canola    447         \n",
       "452 Canola    443         \n",
       "453 Canola    450         \n",
       "454 Canola    448         \n",
       "455 Canola    451         \n",
       "456 Canola    446         \n",
       "457 Canola    453         \n",
       "458 Canola    459         \n",
       "459 Canola    462         \n",
       "460 Canola    461         \n",
       "461 Canola    464         \n",
       "462 Canola    468         \n",
       "463 Canola    463         \n",
       "464 Canola    472         \n",
       "465 Canola    474         \n",
       "466 Canola    490         \n",
       "467 Canola    495         \n",
       "468 Canola    509         \n",
       "469 Canola    507         "
      ]
     },
     "metadata": {},
     "output_type": "display_data"
    }
   ],
   "source": [
    "query <-\"SELECT CROP_TYPE, PRICE_PRERMT FROM FARM_PRICES\n",
    "         WHERE PRICE_PRERMT >=350;\"\n",
    " \n",
    "view <- sqlQuery(conn,query)\n",
    "view"
   ]
  },
  {
   "cell_type": "markdown",
   "metadata": {},
   "source": [
    "## Problem 10\n",
    "#### Rank the crop types harvested in Saskatchewan in the year 2000 by their average yield. Which crop performed best? \n"
   ]
  },
  {
   "cell_type": "markdown",
   "metadata": {},
   "source": [
    "### Solution 10\n"
   ]
  },
  {
   "cell_type": "code",
   "execution_count": 31,
   "metadata": {
    "tags": []
   },
   "outputs": [
    {
     "data": {
      "text/html": [
       "<table>\n",
       "<caption>A data.frame: 4 × 3</caption>\n",
       "<thead>\n",
       "\t<tr><th></th><th scope=col>YEAR</th><th scope=col>GEO</th><th scope=col>AVG_YIELD</th></tr>\n",
       "\t<tr><th></th><th scope=col>&lt;int&gt;</th><th scope=col>&lt;fct&gt;</th><th scope=col>&lt;int&gt;</th></tr>\n",
       "</thead>\n",
       "<tbody>\n",
       "\t<tr><th scope=row>1</th><td>2000</td><td>Saskatchewan</td><td>1400</td></tr>\n",
       "\t<tr><th scope=row>2</th><td>2000</td><td>Saskatchewan</td><td>2100</td></tr>\n",
       "\t<tr><th scope=row>3</th><td>2000</td><td>Saskatchewan</td><td>2200</td></tr>\n",
       "\t<tr><th scope=row>4</th><td>2000</td><td>Saskatchewan</td><td>2800</td></tr>\n",
       "</tbody>\n",
       "</table>\n"
      ],
      "text/latex": [
       "A data.frame: 4 × 3\n",
       "\\begin{tabular}{r|lll}\n",
       "  & YEAR & GEO & AVG\\_YIELD\\\\\n",
       "  & <int> & <fct> & <int>\\\\\n",
       "\\hline\n",
       "\t1 & 2000 & Saskatchewan & 1400\\\\\n",
       "\t2 & 2000 & Saskatchewan & 2100\\\\\n",
       "\t3 & 2000 & Saskatchewan & 2200\\\\\n",
       "\t4 & 2000 & Saskatchewan & 2800\\\\\n",
       "\\end{tabular}\n"
      ],
      "text/markdown": [
       "\n",
       "A data.frame: 4 × 3\n",
       "\n",
       "| <!--/--> | YEAR &lt;int&gt; | GEO &lt;fct&gt; | AVG_YIELD &lt;int&gt; |\n",
       "|---|---|---|---|\n",
       "| 1 | 2000 | Saskatchewan | 1400 |\n",
       "| 2 | 2000 | Saskatchewan | 2100 |\n",
       "| 3 | 2000 | Saskatchewan | 2200 |\n",
       "| 4 | 2000 | Saskatchewan | 2800 |\n",
       "\n"
      ],
      "text/plain": [
       "  YEAR GEO          AVG_YIELD\n",
       "1 2000 Saskatchewan 1400     \n",
       "2 2000 Saskatchewan 2100     \n",
       "3 2000 Saskatchewan 2200     \n",
       "4 2000 Saskatchewan 2800     "
      ]
     },
     "metadata": {},
     "output_type": "display_data"
    }
   ],
   "source": [
    "query <-\"SELECT YEAR(YEAR) AS YEAR, GEO, AVG_YIELD \n",
    "    FROM CROP_DATA WHERE YEAR(YEAR)=2000 AND GEO='Saskatchewan'\n",
    "    ORDER BY AVG_YIELD ASC;\"\n",
    "\n",
    "view <- sqlQuery(conn,query)\n",
    "view"
   ]
  },
  {
   "cell_type": "markdown",
   "metadata": {},
   "source": [
    "## Problem 11\n",
    "#### Rank the crops and geographies by their average yield (KG per hectare) since the year 2000. Which crop and province had the highest average yield since the year 2000? \n"
   ]
  },
  {
   "cell_type": "markdown",
   "metadata": {},
   "source": [
    "### Solution 11\n"
   ]
  },
  {
   "cell_type": "code",
   "execution_count": 24,
   "metadata": {
    "tags": []
   },
   "outputs": [
    {
     "data": {
      "text/html": [
       "<table>\n",
       "<caption>A data.frame: 13 × 3</caption>\n",
       "<thead>\n",
       "\t<tr><th></th><th scope=col>RANK_CROP</th><th scope=col>GEO</th><th scope=col>AVG_YIELD_YEAR2000</th></tr>\n",
       "\t<tr><th></th><th scope=col>&lt;fct&gt;</th><th scope=col>&lt;fct&gt;</th><th scope=col>&lt;int&gt;</th></tr>\n",
       "</thead>\n",
       "<tbody>\n",
       "\t<tr><th scope=row>1</th><td>Barley</td><td>Alberta     </td><td>4100</td></tr>\n",
       "\t<tr><th scope=row>2</th><td>Barley</td><td>Alberta     </td><td>4100</td></tr>\n",
       "\t<tr><th scope=row>3</th><td>Barley</td><td>Alberta     </td><td>3980</td></tr>\n",
       "\t<tr><th scope=row>4</th><td>Wheat </td><td>Alberta     </td><td>3900</td></tr>\n",
       "\t<tr><th scope=row>5</th><td>Barley</td><td>Alberta     </td><td>3900</td></tr>\n",
       "\t<tr><th scope=row>6</th><td>Wheat </td><td>Alberta     </td><td>3900</td></tr>\n",
       "\t<tr><th scope=row>7</th><td>Barley</td><td>Canada      </td><td>3900</td></tr>\n",
       "\t<tr><th scope=row>8</th><td>Barley</td><td>Alberta     </td><td>3890</td></tr>\n",
       "\t<tr><th scope=row>9</th><td>Barley</td><td>Canada      </td><td>3820</td></tr>\n",
       "\t<tr><th scope=row>10</th><td>Barley</td><td>Canada      </td><td>3810</td></tr>\n",
       "\t<tr><th scope=row>11</th><td>Barley</td><td>Canada      </td><td>3800</td></tr>\n",
       "\t<tr><th scope=row>12</th><td>Barley</td><td>Saskatchewan</td><td>3800</td></tr>\n",
       "\t<tr><th scope=row>13</th><td>Wheat </td><td>Alberta     </td><td>3750</td></tr>\n",
       "</tbody>\n",
       "</table>\n"
      ],
      "text/latex": [
       "A data.frame: 13 × 3\n",
       "\\begin{tabular}{r|lll}\n",
       "  & RANK\\_CROP & GEO & AVG\\_YIELD\\_YEAR2000\\\\\n",
       "  & <fct> & <fct> & <int>\\\\\n",
       "\\hline\n",
       "\t1 & Barley & Alberta      & 4100\\\\\n",
       "\t2 & Barley & Alberta      & 4100\\\\\n",
       "\t3 & Barley & Alberta      & 3980\\\\\n",
       "\t4 & Wheat  & Alberta      & 3900\\\\\n",
       "\t5 & Barley & Alberta      & 3900\\\\\n",
       "\t6 & Wheat  & Alberta      & 3900\\\\\n",
       "\t7 & Barley & Canada       & 3900\\\\\n",
       "\t8 & Barley & Alberta      & 3890\\\\\n",
       "\t9 & Barley & Canada       & 3820\\\\\n",
       "\t10 & Barley & Canada       & 3810\\\\\n",
       "\t11 & Barley & Canada       & 3800\\\\\n",
       "\t12 & Barley & Saskatchewan & 3800\\\\\n",
       "\t13 & Wheat  & Alberta      & 3750\\\\\n",
       "\\end{tabular}\n"
      ],
      "text/markdown": [
       "\n",
       "A data.frame: 13 × 3\n",
       "\n",
       "| <!--/--> | RANK_CROP &lt;fct&gt; | GEO &lt;fct&gt; | AVG_YIELD_YEAR2000 &lt;int&gt; |\n",
       "|---|---|---|---|\n",
       "| 1 | Barley | Alberta      | 4100 |\n",
       "| 2 | Barley | Alberta      | 4100 |\n",
       "| 3 | Barley | Alberta      | 3980 |\n",
       "| 4 | Wheat  | Alberta      | 3900 |\n",
       "| 5 | Barley | Alberta      | 3900 |\n",
       "| 6 | Wheat  | Alberta      | 3900 |\n",
       "| 7 | Barley | Canada       | 3900 |\n",
       "| 8 | Barley | Alberta      | 3890 |\n",
       "| 9 | Barley | Canada       | 3820 |\n",
       "| 10 | Barley | Canada       | 3810 |\n",
       "| 11 | Barley | Canada       | 3800 |\n",
       "| 12 | Barley | Saskatchewan | 3800 |\n",
       "| 13 | Wheat  | Alberta      | 3750 |\n",
       "\n"
      ],
      "text/plain": [
       "   RANK_CROP GEO          AVG_YIELD_YEAR2000\n",
       "1  Barley    Alberta      4100              \n",
       "2  Barley    Alberta      4100              \n",
       "3  Barley    Alberta      3980              \n",
       "4  Wheat     Alberta      3900              \n",
       "5  Barley    Alberta      3900              \n",
       "6  Wheat     Alberta      3900              \n",
       "7  Barley    Canada       3900              \n",
       "8  Barley    Alberta      3890              \n",
       "9  Barley    Canada       3820              \n",
       "10 Barley    Canada       3810              \n",
       "11 Barley    Canada       3800              \n",
       "12 Barley    Saskatchewan 3800              \n",
       "13 Wheat     Alberta      3750              "
      ]
     },
     "metadata": {},
     "output_type": "display_data"
    }
   ],
   "source": [
    "query <-\"SELECT CROP_TYPE AS RANK_CROP, GEO, AVG_YIELD AS AVG_YIELD_YEAR2000 \n",
    "             FROM  CROP_DATA WHERE YEAR(YEAR) >=2000 ORDER BY AVG_YIELD_YEAR2000 DESC LIMIT 13;\"\n",
    "\n",
    "view <- sqlQuery(conn,query)\n",
    "view"
   ]
  },
  {
   "cell_type": "markdown",
   "metadata": {},
   "source": [
    "## Problem 12\n",
    "#### Use a subquery to determine how much wheat was harvested in Canada in the most recent year of the data.\n"
   ]
  },
  {
   "cell_type": "markdown",
   "metadata": {},
   "source": [
    "### Solution 12\n"
   ]
  },
  {
   "cell_type": "code",
   "execution_count": 25,
   "metadata": {
    "tags": []
   },
   "outputs": [
    {
     "data": {
      "text/html": [
       "<table>\n",
       "<caption>A data.frame: 1 × 1</caption>\n",
       "<thead>\n",
       "\t<tr><th></th><th scope=col>HARVESTED_WHEAT</th></tr>\n",
       "\t<tr><th></th><th scope=col>&lt;int&gt;</th></tr>\n",
       "</thead>\n",
       "<tbody>\n",
       "\t<tr><th scope=row>1</th><td>38897100</td></tr>\n",
       "</tbody>\n",
       "</table>\n"
      ],
      "text/latex": [
       "A data.frame: 1 × 1\n",
       "\\begin{tabular}{r|l}\n",
       "  & HARVESTED\\_WHEAT\\\\\n",
       "  & <int>\\\\\n",
       "\\hline\n",
       "\t1 & 38897100\\\\\n",
       "\\end{tabular}\n"
      ],
      "text/markdown": [
       "\n",
       "A data.frame: 1 × 1\n",
       "\n",
       "| <!--/--> | HARVESTED_WHEAT &lt;int&gt; |\n",
       "|---|---|\n",
       "| 1 | 38897100 |\n",
       "\n"
      ],
      "text/plain": [
       "  HARVESTED_WHEAT\n",
       "1 38897100       "
      ]
     },
     "metadata": {},
     "output_type": "display_data"
    }
   ],
   "source": [
    "query <-\"SELECT SUM(HARVESTED_AREA) AS HARVESTED_WHEAT\n",
    "        FROM CROP_DATA WHERE YEAR(YEAR)= (SELECT MAX(YEAR(YEAR)) FROM CROP_DATA\n",
    "        WHERE GEO = 'Canada' AND CROP_TYPE = 'Wheat')\"\n",
    "view <- sqlQuery(conn,query)\n",
    "view"
   ]
  },
  {
   "cell_type": "markdown",
   "metadata": {},
   "source": [
    "## Problem 13\n",
    "#### Use an implicit inner join to calculate the monthly price per metric tonne of Canola grown in Saskatchewan in both Canadian and US dollars. Display the most recent 6 months of the data.\n"
   ]
  },
  {
   "cell_type": "markdown",
   "metadata": {},
   "source": [
    "### Solution 13\n"
   ]
  },
  {
   "cell_type": "code",
   "execution_count": 26,
   "metadata": {
    "tags": []
   },
   "outputs": [
    {
     "data": {
      "text/html": [
       "<style>\n",
       ".list-inline {list-style: none; margin:0; padding: 0}\n",
       ".list-inline>li {display: inline-block}\n",
       ".list-inline>li:not(:last-child)::after {content: \"\\00b7\"; padding: 0 .5ex}\n",
       "</style>\n",
       "<ol class=list-inline><li><span style=white-space:pre-wrap>'42S22 -206 [IBM][CLI Driver][DB2/LINUXX8664] SQL0206N  \"F.DATE\" is not valid in the context where it is used.  SQLSTATE=42703\\n'</span></li><li><span style=white-space:pre-wrap>'[RODBC] ERROR: Could not SQLExecDirect \\'SELECT F.DATE, F.CORP_TYPE, M.FXUSDCAD,F.PRICE_PRERMT AS PRICE_CAD, (F.PRICE_PRERMT/ M.FXUSDCAD) AS PRICE_USD \\n         FROM FARM_PRICES, MONTHLY_FX \\n         WHERE F.DATE=M.DATE AND F.CORP_TYPE=\\'Canola\\' AND GEO=\\'Saskatchewan\\' ORDER BY F.DATE DESC LIMIT 6\\''</span></li></ol>\n"
      ],
      "text/latex": [
       "\\begin{enumerate*}\n",
       "\\item '42S22 -206 {[}IBM{]}{[}CLI Driver{]}{[}DB2/LINUXX8664{]} SQL0206N  \"F.DATE\" is not valid in the context where it is used.  SQLSTATE=42703\\textbackslash{}n'\n",
       "\\item '{[}RODBC{]} ERROR: Could not SQLExecDirect \\textbackslash{}'SELECT F.DATE, F.CORP\\_TYPE, M.FXUSDCAD,F.PRICE\\_PRERMT AS PRICE\\_CAD, (F.PRICE\\_PRERMT/ M.FXUSDCAD) AS PRICE\\_USD \\textbackslash{}n         FROM FARM\\_PRICES, MONTHLY\\_FX \\textbackslash{}n         WHERE F.DATE=M.DATE AND F.CORP\\_TYPE=\\textbackslash{}'Canola\\textbackslash{}' AND GEO=\\textbackslash{}'Saskatchewan\\textbackslash{}' ORDER BY F.DATE DESC LIMIT 6\\textbackslash{}''\n",
       "\\end{enumerate*}\n"
      ],
      "text/markdown": [
       "1. <span style=white-space:pre-wrap>'42S22 -206 [IBM][CLI Driver][DB2/LINUXX8664] SQL0206N  \"F.DATE\" is not valid in the context where it is used.  SQLSTATE=42703\\n'</span>\n",
       "2. <span style=white-space:pre-wrap>'[RODBC] ERROR: Could not SQLExecDirect \\'SELECT F.DATE, F.CORP_TYPE, M.FXUSDCAD,F.PRICE_PRERMT AS PRICE_CAD, (F.PRICE_PRERMT/ M.FXUSDCAD) AS PRICE_USD \\n         FROM FARM_PRICES, MONTHLY_FX \\n         WHERE F.DATE=M.DATE AND F.CORP_TYPE=\\'Canola\\' AND GEO=\\'Saskatchewan\\' ORDER BY F.DATE DESC LIMIT 6\\''</span>\n",
       "\n",
       "\n"
      ],
      "text/plain": [
       "[1] \"42S22 -206 [IBM][CLI Driver][DB2/LINUXX8664] SQL0206N  \\\"F.DATE\\\" is not valid in the context where it is used.  SQLSTATE=42703\\n\"                                                                                                                                                                         \n",
       "[2] \"[RODBC] ERROR: Could not SQLExecDirect 'SELECT F.DATE, F.CORP_TYPE, M.FXUSDCAD,F.PRICE_PRERMT AS PRICE_CAD, (F.PRICE_PRERMT/ M.FXUSDCAD) AS PRICE_USD \\n         FROM FARM_PRICES, MONTHLY_FX \\n         WHERE F.DATE=M.DATE AND F.CORP_TYPE='Canola' AND GEO='Saskatchewan' ORDER BY F.DATE DESC LIMIT 6'\""
      ]
     },
     "metadata": {},
     "output_type": "display_data"
    }
   ],
   "source": [
    "query <- \"SELECT F.DATE, F.CORP_TYPE, M.FXUSDCAD,F.PRICE_PRERMT AS PRICE_CAD, (F.PRICE_PRERMT/ M.FXUSDCAD) AS PRICE_USD \n",
    "         FROM FARM_PRICES, MONTHLY_FX \n",
    "         WHERE F.DATE=M.DATE AND F.CORP_TYPE='Canola' AND GEO='Saskatchewan' ORDER BY F.DATE DESC LIMIT 6\"\n",
    "\n",
    "view<- sqlQuery(conn, query)\n",
    "view"
   ]
  },
  {
   "cell_type": "markdown",
   "metadata": {},
   "source": [
    "## Author(s)\n",
    "\n",
    "<h4> Jeff Grossman </h4>\n",
    "\n",
    "## Contributor(s)\n",
    "\n",
    "<h4> Rav Ahuja </h4>\n",
    "\n",
    "## Change log\n",
    "\n",
    "| Date       | Version | Changed by    | Change Description                                                                                          |\n",
    "| ---------- | ------- | ------------- | ----------------------------------------------------------------------------------------------------------- |\n",
    "| 2021-04-01 | 0.7     | Jeff Grossman | Split Problem 1 solution cell into multiple cells, fixed minor bugs |\n",
    "| 2021-03-12 | 0.6     | Jeff Grossman | Cleaned up content for production |\n",
    "| 2021-03-11 | 0.5     | Jeff Grossman | Moved more advanced problems to optional honours module |\n",
    "| 2021-03-10 | 0.4     | Jeff Grossman | Added introductory and intermediate level problems and removed some advanced problems |\n",
    "| 2021-03-04 | 0.3     | Jeff Grossman | Moved some problems to a new practice lab as prep for this assignment\n",
    "| 2021-03-04 | 0.2     | Jeff Grossman | Sorted problems roughly by level of difficulty and relegated more advanced ones to ungraded bonus problems  |\n",
    "| 2021-02-20 | 0.1     | Jeff Grossman | Started content creation                                                                                    |\n",
    "\n",
    "\n",
    "## <h3 align=\"center\"> © IBM Corporation 2021. All rights reserved. <h3/>\n"
   ]
  },
  {
   "cell_type": "code",
   "execution_count": null,
   "metadata": {},
   "outputs": [],
   "source": []
  }
 ],
 "metadata": {
  "kernelspec": {
   "display_name": "R",
   "language": "R",
   "name": "conda-env-r-r"
  },
  "language_info": {
   "codemirror_mode": "r",
   "file_extension": ".r",
   "mimetype": "text/x-r-source",
   "name": "R",
   "pygments_lexer": "r",
   "version": "3.5.1"
  }
 },
 "nbformat": 4,
 "nbformat_minor": 4
}
